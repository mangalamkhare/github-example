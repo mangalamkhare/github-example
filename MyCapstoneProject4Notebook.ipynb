{
 "cells": [
  {
   "cell_type": "code",
   "execution_count": 19,
   "metadata": {},
   "outputs": [],
   "source": [
    "import pandas as pd\n",
    "import numpy as np # library to handle data in a vectorized manner\n",
    "\n",
    "#import pandas as pd # library for data analsysis\n",
    "pd.set_option('display.max_columns', None)\n",
    "pd.set_option('display.max_rows', None)\n",
    "\n",
    "import json # library to handle JSON files\n",
    "\n",
    "#!conda install -c conda-forge geopy --yes # uncomment this line if you haven't completed the Foursquare API lab\n",
    "from geopy.geocoders import Nominatim # convert an address into latitude and longitude values\n",
    "\n",
    "import requests # library to handle requests\n",
    "from pandas.io.json import json_normalize # tranform JSON file into a pandas dataframe\n",
    "\n",
    "# Matplotlib and associated plotting modules\n",
    "import matplotlib.cm as cm\n",
    "import matplotlib.colors as colors\n",
    "\n",
    "# import k-means from clustering stage\n",
    "from sklearn.cluster import KMeans\n",
    "\n",
    "#!conda install -c conda-forge folium=0.5.0 --yes # uncomment this line if you haven't completed the Foursquare API lab\n",
    "#import folium # map rendering library\n"
   ]
  },
  {
   "cell_type": "code",
   "execution_count": 18,
   "metadata": {},
   "outputs": [
    {
     "name": "stdout",
     "output_type": "stream",
     "text": [
      "Solving environment: done\n",
      "\n",
      "## Package Plan ##\n",
      "\n",
      "  environment location: /opt/conda/envs/Python36\n",
      "\n",
      "  added / updated specs: \n",
      "    - folium=0.5.0\n",
      "\n",
      "\n",
      "The following packages will be downloaded:\n",
      "\n",
      "    package                    |            build\n",
      "    ---------------------------|-----------------\n",
      "    vincent-0.4.4              |             py_1          28 KB  conda-forge\n",
      "    certifi-2019.9.11          |           py36_0         147 KB  conda-forge\n",
      "    altair-3.2.0               |           py36_0         770 KB  conda-forge\n",
      "    branca-0.3.1               |             py_0          25 KB  conda-forge\n",
      "    ca-certificates-2019.9.11  |       hecc5488_0         144 KB  conda-forge\n",
      "    openssl-1.1.1c             |       h516909a_0         2.1 MB  conda-forge\n",
      "    folium-0.5.0               |             py_0          45 KB  conda-forge\n",
      "    ------------------------------------------------------------\n",
      "                                           Total:         3.3 MB\n",
      "\n",
      "The following NEW packages will be INSTALLED:\n",
      "\n",
      "    altair:          3.2.0-py36_0      conda-forge\n",
      "    branca:          0.3.1-py_0        conda-forge\n",
      "    folium:          0.5.0-py_0        conda-forge\n",
      "    vincent:         0.4.4-py_1        conda-forge\n",
      "\n",
      "The following packages will be UPDATED:\n",
      "\n",
      "    ca-certificates: 2019.5.15-1                   --> 2019.9.11-hecc5488_0 conda-forge\n",
      "    certifi:         2019.6.16-py36_1              --> 2019.9.11-py36_0     conda-forge\n",
      "\n",
      "The following packages will be DOWNGRADED:\n",
      "\n",
      "    openssl:         1.1.1d-h7b6447c_1             --> 1.1.1c-h516909a_0    conda-forge\n",
      "\n",
      "\n",
      "Downloading and Extracting Packages\n",
      "vincent-0.4.4        | 28 KB     | ##################################### | 100% \n",
      "certifi-2019.9.11    | 147 KB    | ##################################### | 100% \n",
      "altair-3.2.0         | 770 KB    | ##################################### | 100% \n",
      "branca-0.3.1         | 25 KB     | ##################################### | 100% \n",
      "ca-certificates-2019 | 144 KB    | ##################################### | 100% \n",
      "openssl-1.1.1c       | 2.1 MB    | ##################################### | 100% \n",
      "folium-0.5.0         | 45 KB     | ##################################### | 100% \n",
      "Preparing transaction: done\n",
      "Verifying transaction: done\n",
      "Executing transaction: done\n"
     ]
    }
   ],
   "source": [
    "!conda install -c conda-forge folium=0.5.0 --yes # uncomment this line if you haven't completed the Foursquare API lab"
   ]
  },
  {
   "cell_type": "code",
   "execution_count": 20,
   "metadata": {},
   "outputs": [],
   "source": [
    "import folium # map rendering library"
   ]
  },
  {
   "cell_type": "markdown",
   "metadata": {},
   "source": [
    "#### scrap the wikipedia page read the Post Code table and convert into dataframe"
   ]
  },
  {
   "cell_type": "code",
   "execution_count": 3,
   "metadata": {},
   "outputs": [],
   "source": [
    "df_canada = pd.read_html(\"https://en.wikipedia.org/wiki/List_of_postal_codes_of_Canada:_M\", header=0,  index_col=None, skiprows=None)\n",
    "df = pd.DataFrame(df_canada[0])"
   ]
  },
  {
   "cell_type": "markdown",
   "metadata": {},
   "source": [
    "#### Ignore cells with a borough that is Not assigned"
   ]
  },
  {
   "cell_type": "code",
   "execution_count": 4,
   "metadata": {},
   "outputs": [],
   "source": [
    "df_dropna= df[df.Borough != 'Not assigned']"
   ]
  },
  {
   "cell_type": "markdown",
   "metadata": {},
   "source": [
    "#### Combine neighborhood in one postal code area, separte values by comma"
   ]
  },
  {
   "cell_type": "code",
   "execution_count": 5,
   "metadata": {},
   "outputs": [],
   "source": [
    "df_concat = df_dropna.groupby('Postcode').agg({'Borough':'first', \n",
    "                             'Neighbourhood': ', '.join }).reset_index()\n"
   ]
  },
  {
   "cell_type": "markdown",
   "metadata": {},
   "source": [
    "#### Assign neighbourhood as brough when neighbourhood has value \"Not assigned\""
   ]
  },
  {
   "cell_type": "code",
   "execution_count": 6,
   "metadata": {},
   "outputs": [],
   "source": [
    "\n",
    "df_concat.loc[df_concat.Neighbourhood== 'Not assigned', 'Neighbourhood'] = df_concat.Borough"
   ]
  },
  {
   "cell_type": "code",
   "execution_count": 7,
   "metadata": {},
   "outputs": [],
   "source": [
    "df_geo = pd.read_csv('http://cocl.us/Geospatial_data')\n"
   ]
  },
  {
   "cell_type": "markdown",
   "metadata": {},
   "source": [
    "#### Read the Geocoder csv file to get geographical coordinates information"
   ]
  },
  {
   "cell_type": "code",
   "execution_count": 8,
   "metadata": {},
   "outputs": [],
   "source": [
    "df_concat = df_concat.rename(columns={'Postcode': 'Postal Code'})\n"
   ]
  },
  {
   "cell_type": "markdown",
   "metadata": {},
   "source": [
    "#### join 2 dataframes"
   ]
  },
  {
   "cell_type": "code",
   "execution_count": 9,
   "metadata": {},
   "outputs": [],
   "source": [
    "mergedDf = df_concat.merge(df_geo)"
   ]
  },
  {
   "cell_type": "code",
   "execution_count": 10,
   "metadata": {},
   "outputs": [
    {
     "data": {
      "text/html": [
       "<div>\n",
       "<style scoped>\n",
       "    .dataframe tbody tr th:only-of-type {\n",
       "        vertical-align: middle;\n",
       "    }\n",
       "\n",
       "    .dataframe tbody tr th {\n",
       "        vertical-align: top;\n",
       "    }\n",
       "\n",
       "    .dataframe thead th {\n",
       "        text-align: right;\n",
       "    }\n",
       "</style>\n",
       "<table border=\"1\" class=\"dataframe\">\n",
       "  <thead>\n",
       "    <tr style=\"text-align: right;\">\n",
       "      <th></th>\n",
       "      <th>Postal Code</th>\n",
       "      <th>Borough</th>\n",
       "      <th>Neighbourhood</th>\n",
       "      <th>Latitude</th>\n",
       "      <th>Longitude</th>\n",
       "    </tr>\n",
       "  </thead>\n",
       "  <tbody>\n",
       "    <tr>\n",
       "      <th>0</th>\n",
       "      <td>M1B</td>\n",
       "      <td>Scarborough</td>\n",
       "      <td>Rouge, Malvern</td>\n",
       "      <td>43.806686</td>\n",
       "      <td>-79.194353</td>\n",
       "    </tr>\n",
       "    <tr>\n",
       "      <th>1</th>\n",
       "      <td>M1C</td>\n",
       "      <td>Scarborough</td>\n",
       "      <td>Highland Creek, Rouge Hill, Port Union</td>\n",
       "      <td>43.784535</td>\n",
       "      <td>-79.160497</td>\n",
       "    </tr>\n",
       "    <tr>\n",
       "      <th>2</th>\n",
       "      <td>M1E</td>\n",
       "      <td>Scarborough</td>\n",
       "      <td>Guildwood, Morningside, West Hill</td>\n",
       "      <td>43.763573</td>\n",
       "      <td>-79.188711</td>\n",
       "    </tr>\n",
       "    <tr>\n",
       "      <th>3</th>\n",
       "      <td>M1G</td>\n",
       "      <td>Scarborough</td>\n",
       "      <td>Woburn</td>\n",
       "      <td>43.770992</td>\n",
       "      <td>-79.216917</td>\n",
       "    </tr>\n",
       "    <tr>\n",
       "      <th>4</th>\n",
       "      <td>M1H</td>\n",
       "      <td>Scarborough</td>\n",
       "      <td>Cedarbrae</td>\n",
       "      <td>43.773136</td>\n",
       "      <td>-79.239476</td>\n",
       "    </tr>\n",
       "  </tbody>\n",
       "</table>\n",
       "</div>"
      ],
      "text/plain": [
       "  Postal Code      Borough                           Neighbourhood   Latitude  \\\n",
       "0         M1B  Scarborough                          Rouge, Malvern  43.806686   \n",
       "1         M1C  Scarborough  Highland Creek, Rouge Hill, Port Union  43.784535   \n",
       "2         M1E  Scarborough       Guildwood, Morningside, West Hill  43.763573   \n",
       "3         M1G  Scarborough                                  Woburn  43.770992   \n",
       "4         M1H  Scarborough                               Cedarbrae  43.773136   \n",
       "\n",
       "   Longitude  \n",
       "0 -79.194353  \n",
       "1 -79.160497  \n",
       "2 -79.188711  \n",
       "3 -79.216917  \n",
       "4 -79.239476  "
      ]
     },
     "execution_count": 10,
     "metadata": {},
     "output_type": "execute_result"
    }
   ],
   "source": [
    "mergedDf.head()"
   ]
  },
  {
   "cell_type": "code",
   "execution_count": 13,
   "metadata": {},
   "outputs": [],
   "source": [
    "df_toronto= mergedDf[mergedDf['Borough'].str.contains('Toronto')]"
   ]
  },
  {
   "cell_type": "code",
   "execution_count": 14,
   "metadata": {},
   "outputs": [
    {
     "data": {
      "text/html": [
       "<div>\n",
       "<style scoped>\n",
       "    .dataframe tbody tr th:only-of-type {\n",
       "        vertical-align: middle;\n",
       "    }\n",
       "\n",
       "    .dataframe tbody tr th {\n",
       "        vertical-align: top;\n",
       "    }\n",
       "\n",
       "    .dataframe thead th {\n",
       "        text-align: right;\n",
       "    }\n",
       "</style>\n",
       "<table border=\"1\" class=\"dataframe\">\n",
       "  <thead>\n",
       "    <tr style=\"text-align: right;\">\n",
       "      <th></th>\n",
       "      <th>Postal Code</th>\n",
       "      <th>Borough</th>\n",
       "      <th>Neighbourhood</th>\n",
       "      <th>Latitude</th>\n",
       "      <th>Longitude</th>\n",
       "    </tr>\n",
       "  </thead>\n",
       "  <tbody>\n",
       "    <tr>\n",
       "      <th>37</th>\n",
       "      <td>M4E</td>\n",
       "      <td>East Toronto</td>\n",
       "      <td>The Beaches</td>\n",
       "      <td>43.676357</td>\n",
       "      <td>-79.293031</td>\n",
       "    </tr>\n",
       "    <tr>\n",
       "      <th>41</th>\n",
       "      <td>M4K</td>\n",
       "      <td>East Toronto</td>\n",
       "      <td>The Danforth West, Riverdale</td>\n",
       "      <td>43.679557</td>\n",
       "      <td>-79.352188</td>\n",
       "    </tr>\n",
       "    <tr>\n",
       "      <th>42</th>\n",
       "      <td>M4L</td>\n",
       "      <td>East Toronto</td>\n",
       "      <td>The Beaches West, India Bazaar</td>\n",
       "      <td>43.668999</td>\n",
       "      <td>-79.315572</td>\n",
       "    </tr>\n",
       "    <tr>\n",
       "      <th>43</th>\n",
       "      <td>M4M</td>\n",
       "      <td>East Toronto</td>\n",
       "      <td>Studio District</td>\n",
       "      <td>43.659526</td>\n",
       "      <td>-79.340923</td>\n",
       "    </tr>\n",
       "    <tr>\n",
       "      <th>44</th>\n",
       "      <td>M4N</td>\n",
       "      <td>Central Toronto</td>\n",
       "      <td>Lawrence Park</td>\n",
       "      <td>43.728020</td>\n",
       "      <td>-79.388790</td>\n",
       "    </tr>\n",
       "  </tbody>\n",
       "</table>\n",
       "</div>"
      ],
      "text/plain": [
       "   Postal Code          Borough                   Neighbourhood   Latitude  \\\n",
       "37         M4E     East Toronto                     The Beaches  43.676357   \n",
       "41         M4K     East Toronto    The Danforth West, Riverdale  43.679557   \n",
       "42         M4L     East Toronto  The Beaches West, India Bazaar  43.668999   \n",
       "43         M4M     East Toronto                 Studio District  43.659526   \n",
       "44         M4N  Central Toronto                   Lawrence Park  43.728020   \n",
       "\n",
       "    Longitude  \n",
       "37 -79.293031  \n",
       "41 -79.352188  \n",
       "42 -79.315572  \n",
       "43 -79.340923  \n",
       "44 -79.388790  "
      ]
     },
     "execution_count": 14,
     "metadata": {},
     "output_type": "execute_result"
    }
   ],
   "source": [
    "df_toronto.head()"
   ]
  },
  {
   "cell_type": "code",
   "execution_count": 16,
   "metadata": {},
   "outputs": [
    {
     "name": "stdout",
     "output_type": "stream",
     "text": [
      "The dataframe has 4 boroughs and 38 neighborhoods.\n"
     ]
    }
   ],
   "source": [
    "print('The dataframe has {} boroughs and {} neighborhoods.'.format(\n",
    "        len(df_toronto['Borough'].unique()),\n",
    "        df_toronto.shape[0]\n",
    "    )\n",
    ")"
   ]
  },
  {
   "cell_type": "code",
   "execution_count": 22,
   "metadata": {},
   "outputs": [
    {
     "name": "stdout",
     "output_type": "stream",
     "text": [
      "The geograpical coordinate of Toronto City are 43.653963, -79.387207.\n"
     ]
    }
   ],
   "source": [
    "#Use geopy library to get the latitude and longitude values of New York City.\n",
    "#In order to define an instance of the geocoder, we need to define a user_agent. We will name our agent toronto_explorer, as shown below.\n",
    "address = 'Toronto'\n",
    "\n",
    "geolocator = Nominatim(user_agent=\"toronto_explorer\")\n",
    "location = geolocator.geocode(address)\n",
    "latitude = location.latitude\n",
    "longitude = location.longitude\n",
    "print('The geograpical coordinate of Toronto City are {}, {}.'.format(latitude, longitude))"
   ]
  },
  {
   "cell_type": "code",
   "execution_count": 48,
   "metadata": {},
   "outputs": [
    {
     "data": {
      "text/html": [
       "<div style=\"width:100%;\"><div style=\"position:relative;width:100%;height:0;padding-bottom:60%;\"><iframe src=\"data:text/html;charset=utf-8;base64,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\" style=\"position:absolute;width:100%;height:100%;left:0;top:0;border:none !important;\" allowfullscreen webkitallowfullscreen mozallowfullscreen></iframe></div></div>"
      ],
      "text/plain": [
       "<folium.folium.Map at 0x7f08bf981b70>"
      ]
     },
     "execution_count": 48,
     "metadata": {},
     "output_type": "execute_result"
    }
   ],
   "source": [
    "# create map of New York using latitude and longitude values\n",
    "map_toronto = folium.Map(location=[latitude, longitude], zoom_start=10)\n",
    "\n",
    "# add markers to map\n",
    "for lat, lng, borough, neighborhood in zip(df_toronto['Latitude'], df_toronto['Longitude'], df_toronto['Borough'], df_toronto['Neighbourhood']):\n",
    "    label = '{}, {}'.format(neighborhood, borough)\n",
    "    label = folium.Popup(label, parse_html=True)\n",
    "    folium.CircleMarker(\n",
    "        [lat, lng],\n",
    "        radius=5,\n",
    "        popup=label,\n",
    "        color='blue',\n",
    "        fill=True,\n",
    "        fill_color='#3186cc',\n",
    "        fill_opacity=0.7,\n",
    "        parse_html=False).add_to(map_toronto)  \n",
    "    \n",
    "map_toronto"
   ]
  },
  {
   "cell_type": "code",
   "execution_count": 56,
   "metadata": {},
   "outputs": [
    {
     "name": "stdout",
     "output_type": "stream",
     "text": [
      "Your credentails:\n",
      "CLIENT_ID: 559066510\n",
      "CLIENT_SECRET:Fs1111!\n"
     ]
    }
   ],
   "source": [
    "CLIENT_ID = '559066510' # your Foursquare ID\n",
    "CLIENT_SECRET = 'Fs1111!' # your Foursquare Secret\n",
    "VERSION = '20191005' # Foursquare API version\n",
    "\n",
    "print('Your credentails:')\n",
    "print('CLIENT_ID: ' + CLIENT_ID)\n",
    "print('CLIENT_SECRET:' + CLIENT_SECRET)"
   ]
  },
  {
   "cell_type": "code",
   "execution_count": null,
   "metadata": {},
   "outputs": [],
   "source": [
    "#Let's explore the first neighborhood in our dataframe.\n",
    "#Get the neighborhood's name."
   ]
  },
  {
   "cell_type": "code",
   "execution_count": 35,
   "metadata": {},
   "outputs": [
    {
     "data": {
      "text/plain": [
       "37                                          The Beaches\n",
       "41                         The Danforth West, Riverdale\n",
       "42                       The Beaches West, India Bazaar\n",
       "43                                      Studio District\n",
       "44                                        Lawrence Park\n",
       "45                                     Davisville North\n",
       "46                                   North Toronto West\n",
       "47                                           Davisville\n",
       "48                          Moore Park, Summerhill East\n",
       "49    Deer Park, Forest Hill SE, Rathnelly, South Hi...\n",
       "50                                             Rosedale\n",
       "51                          Cabbagetown, St. James Town\n",
       "52                                 Church and Wellesley\n",
       "53                            Harbourfront, Regent Park\n",
       "54                             Ryerson, Garden District\n",
       "55                                       St. James Town\n",
       "56                                          Berczy Park\n",
       "57                                   Central Bay Street\n",
       "58                             Adelaide, King, Richmond\n",
       "59    Harbourfront East, Toronto Islands, Union Station\n",
       "60             Design Exchange, Toronto Dominion Centre\n",
       "61                       Commerce Court, Victoria Hotel\n",
       "63                                             Roselawn\n",
       "64                  Forest Hill North, Forest Hill West\n",
       "65                  The Annex, North Midtown, Yorkville\n",
       "66                       Harbord, University of Toronto\n",
       "67            Chinatown, Grange Park, Kensington Market\n",
       "68    CN Tower, Bathurst Quay, Island airport, Harbo...\n",
       "69                      Stn A PO Boxes 25 The Esplanade\n",
       "70               First Canadian Place, Underground city\n",
       "75                                             Christie\n",
       "76                         Dovercourt Village, Dufferin\n",
       "77                             Little Portugal, Trinity\n",
       "78         Brockton, Exhibition Place, Parkdale Village\n",
       "82                        High Park, The Junction South\n",
       "83                               Parkdale, Roncesvalles\n",
       "84                                   Runnymede, Swansea\n",
       "87    Business Reply Mail Processing Centre 969 Eastern\n",
       "Name: Neighbourhood, dtype: object"
      ]
     },
     "execution_count": 35,
     "metadata": {},
     "output_type": "execute_result"
    }
   ],
   "source": [
    "df_toronto.loc[:,'Neighbourhood']"
   ]
  },
  {
   "cell_type": "code",
   "execution_count": 38,
   "metadata": {},
   "outputs": [
    {
     "name": "stdout",
     "output_type": "stream",
     "text": [
      "Latitude and longitude values of 37                                          The Beaches\n",
      "41                         The Danforth West, Riverdale\n",
      "42                       The Beaches West, India Bazaar\n",
      "43                                      Studio District\n",
      "44                                        Lawrence Park\n",
      "45                                     Davisville North\n",
      "46                                   North Toronto West\n",
      "47                                           Davisville\n",
      "48                          Moore Park, Summerhill East\n",
      "49    Deer Park, Forest Hill SE, Rathnelly, South Hi...\n",
      "50                                             Rosedale\n",
      "51                          Cabbagetown, St. James Town\n",
      "52                                 Church and Wellesley\n",
      "53                            Harbourfront, Regent Park\n",
      "54                             Ryerson, Garden District\n",
      "55                                       St. James Town\n",
      "56                                          Berczy Park\n",
      "57                                   Central Bay Street\n",
      "58                             Adelaide, King, Richmond\n",
      "59    Harbourfront East, Toronto Islands, Union Station\n",
      "60             Design Exchange, Toronto Dominion Centre\n",
      "61                       Commerce Court, Victoria Hotel\n",
      "63                                             Roselawn\n",
      "64                  Forest Hill North, Forest Hill West\n",
      "65                  The Annex, North Midtown, Yorkville\n",
      "66                       Harbord, University of Toronto\n",
      "67            Chinatown, Grange Park, Kensington Market\n",
      "68    CN Tower, Bathurst Quay, Island airport, Harbo...\n",
      "69                      Stn A PO Boxes 25 The Esplanade\n",
      "70               First Canadian Place, Underground city\n",
      "75                                             Christie\n",
      "76                         Dovercourt Village, Dufferin\n",
      "77                             Little Portugal, Trinity\n",
      "78         Brockton, Exhibition Place, Parkdale Village\n",
      "82                        High Park, The Junction South\n",
      "83                               Parkdale, Roncesvalles\n",
      "84                                   Runnymede, Swansea\n",
      "87    Business Reply Mail Processing Centre 969 Eastern\n",
      "Name: Neighbourhood, dtype: object are 37    43.676357\n",
      "41    43.679557\n",
      "42    43.668999\n",
      "43    43.659526\n",
      "44    43.728020\n",
      "45    43.712751\n",
      "46    43.715383\n",
      "47    43.704324\n",
      "48    43.689574\n",
      "49    43.686412\n",
      "50    43.679563\n",
      "51    43.667967\n",
      "52    43.665860\n",
      "53    43.654260\n",
      "54    43.657162\n",
      "55    43.651494\n",
      "56    43.644771\n",
      "57    43.657952\n",
      "58    43.650571\n",
      "59    43.640816\n",
      "60    43.647177\n",
      "61    43.648198\n",
      "63    43.711695\n",
      "64    43.696948\n",
      "65    43.672710\n",
      "66    43.662696\n",
      "67    43.653206\n",
      "68    43.628947\n",
      "69    43.646435\n",
      "70    43.648429\n",
      "75    43.669542\n",
      "76    43.669005\n",
      "77    43.647927\n",
      "78    43.636847\n",
      "82    43.661608\n",
      "83    43.648960\n",
      "84    43.651571\n",
      "87    43.662744\n",
      "Name: Latitude, dtype: float64, 37   -79.293031\n",
      "41   -79.352188\n",
      "42   -79.315572\n",
      "43   -79.340923\n",
      "44   -79.388790\n",
      "45   -79.390197\n",
      "46   -79.405678\n",
      "47   -79.388790\n",
      "48   -79.383160\n",
      "49   -79.400049\n",
      "50   -79.377529\n",
      "51   -79.367675\n",
      "52   -79.383160\n",
      "53   -79.360636\n",
      "54   -79.378937\n",
      "55   -79.375418\n",
      "56   -79.373306\n",
      "57   -79.387383\n",
      "58   -79.384568\n",
      "59   -79.381752\n",
      "60   -79.381576\n",
      "61   -79.379817\n",
      "63   -79.416936\n",
      "64   -79.411307\n",
      "65   -79.405678\n",
      "66   -79.400049\n",
      "67   -79.400049\n",
      "68   -79.394420\n",
      "69   -79.374846\n",
      "70   -79.382280\n",
      "75   -79.422564\n",
      "76   -79.442259\n",
      "77   -79.419750\n",
      "78   -79.428191\n",
      "82   -79.464763\n",
      "83   -79.456325\n",
      "84   -79.484450\n",
      "87   -79.321558\n",
      "Name: Longitude, dtype: float64.\n"
     ]
    }
   ],
   "source": [
    "#et the neighborhood's latitude and longitude values.\n",
    "neighborhood_latitude = df_toronto.loc[:, 'Latitude'] # neighborhood latitude value\n",
    "neighborhood_longitude = df_toronto.loc[:, 'Longitude'] # neighborhood longitude value\n",
    "\n",
    "neighborhood_name = df_toronto.loc[:, 'Neighbourhood'] # neighborhood name\n",
    "\n",
    "print('Latitude and longitude values of {} are {}, {}.'.format(neighborhood_name, \n",
    "                                                               neighborhood_latitude, \n",
    "                                                               neighborhood_longitude))"
   ]
  },
  {
   "cell_type": "code",
   "execution_count": 54,
   "metadata": {},
   "outputs": [],
   "source": [
    "#Now, let's get the top 100 venues that are in Marble Hill within a radius of 500 meters.\n",
    "#First, let's create the GET request URL. Name your URL url.\n",
    "# The correct answer is:\n",
    "LIMIT = 100 # limit of number of venues returned by Foursquare API\n",
    "\n",
    "radius = 500 # define radius\n",
    "\n",
    " # create URL\n",
    "url = 'https://api.foursquare.com/v2/venues/explore?&client_id={}&client_secret={}&v={}&ll={},{}&radius={}&limit={}'.format(\n",
    "    CLIENT_ID, \n",
    "    CLIENT_SECRET, \n",
    "    VERSION, \n",
    "    neighborhood_latitude, \n",
    "    neighborhood_longitude, \n",
    "    radius, \n",
    "    LIMIT)\n"
   ]
  },
  {
   "cell_type": "code",
   "execution_count": null,
   "metadata": {},
   "outputs": [],
   "source": [
    "#Send the GET request and examine the resutls"
   ]
  },
  {
   "cell_type": "code",
   "execution_count": 58,
   "metadata": {},
   "outputs": [],
   "source": [
    "results = requests.get(url).json()\n",
    "results"
   ]
  },
  {
   "cell_type": "code",
   "execution_count": null,
   "metadata": {},
   "outputs": [],
   "source": [
    "#From the Foursquare lab in the previous module, we know that all the information is in the items key. Before we proceed, let's borrow the get_category_type function from the Foursquare lab.\n"
   ]
  },
  {
   "cell_type": "code",
   "execution_count": 46,
   "metadata": {},
   "outputs": [],
   "source": [
    "# function that extracts the category of the venue\n",
    "def get_category_type(row):\n",
    "    try:\n",
    "        categories_list = row['categories']\n",
    "    except:\n",
    "        categories_list = row['venue.categories']\n",
    "        \n",
    "    if len(categories_list) == 0:\n",
    "        return None\n",
    "    else:\n",
    "        return categories_list[0]['name']"
   ]
  },
  {
   "cell_type": "code",
   "execution_count": null,
   "metadata": {},
   "outputs": [],
   "source": [
    "#Now we are ready to clean the json and structure it into a pandas dataframe."
   ]
  },
  {
   "cell_type": "code",
   "execution_count": null,
   "metadata": {},
   "outputs": [],
   "source": [
    "venues = results['response']['groups'][0]['items']\n",
    "    \n",
    "nearby_venues = json_normalize(venues) # flatten JSON\n",
    "\n",
    "# filter columns\n",
    "filtered_columns = ['venue.name', 'venue.categories', 'venue.location.lat', 'venue.location.lng']\n",
    "nearby_venues =nearby_venues.loc[:, filtered_columns]\n",
    "\n",
    "# filter the category for each row\n",
    "nearby_venues['venue.categories'] = nearby_venues.apply(get_category_type, axis=1)\n",
    "\n",
    "# clean columns\n",
    "nearby_venues.columns = [col.split(\".\")[-1] for col in nearby_venues.columns]\n",
    "\n",
    "nearby_venues.head()"
   ]
  },
  {
   "cell_type": "code",
   "execution_count": null,
   "metadata": {},
   "outputs": [],
   "source": [
    "print('{} venues were returned by Foursquare.'.format(nearby_venues.shape[0]))"
   ]
  }
 ],
 "metadata": {
  "kernelspec": {
   "display_name": "Python 3.6",
   "language": "python",
   "name": "python3"
  },
  "language_info": {
   "codemirror_mode": {
    "name": "ipython",
    "version": 3
   },
   "file_extension": ".py",
   "mimetype": "text/x-python",
   "name": "python",
   "nbconvert_exporter": "python",
   "pygments_lexer": "ipython3",
   "version": "3.6.8"
  }
 },
 "nbformat": 4,
 "nbformat_minor": 1
}
